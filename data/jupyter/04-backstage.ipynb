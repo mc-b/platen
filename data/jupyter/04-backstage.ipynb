{
 "cells": [
  {
   "cell_type": "markdown",
   "id": "b8b719fc",
   "metadata": {},
   "source": [
    "## Backstage\n",
    "\n",
    "[Backstage.io](https://backstage.io) ist eine Open-Source-Developer-Plattform, die von Spotify entwickelt wurde, um die Verwaltung von Softwareprojekten zu vereinfachen. \n",
    "\n",
    "Mit Backstage können Unternehmen eine zentrale Anlaufstelle für all ihre internen Tools, Services, Dokumentationen und Software-Komponenten schaffen. \n",
    "\n",
    "Im Mittelpunkt steht das Konzept des \"Service Catalogs\", der alle Applikationen und Services übersichtlich darstellt. \n",
    "\n",
    "Durch Plugins lässt sich Backstage flexibel erweitern und an individuelle Bedürfnisse anpassen. Ziel ist es, Entwickler:innen die tägliche Arbeit zu erleichtern und eine einheitliche Nutzererfahrung über verschiedene Tools hinweg zu bieten.\n"
   ]
  },
  {
   "cell_type": "markdown",
   "id": "0c6d8aad",
   "metadata": {},
   "source": [
    "### Installation\n",
    "\n",
    "Dazu greifen wir auf Scripts aus dem [Lern Cloud Projekt](https://github.com/mc-b/lerncloud/tree/main/services) zurück, dass\n",
    "* Installiert nvm und Node.js\n",
    "* Entpackt eine vorinstallierte Backstage Umgebung nach `~/backstage`\n"
   ]
  },
  {
   "cell_type": "code",
   "execution_count": null,
   "id": "5e7fb67c",
   "metadata": {},
   "outputs": [],
   "source": [
    "%%bash\n",
    "curl -sfL https://raw.githubusercontent.com/mc-b/lerncloud/refs/heads/main/services/backstage.sh | bash -"
   ]
  },
  {
   "cell_type": "markdown",
   "id": "0b2bfedf",
   "metadata": {},
   "source": [
    "### Backstage UI\n",
    "\n",
    "Nach dem Ausführen der untenstehenden Schritte ist das Backstage UI unter folgendem URL erreichbar:"
   ]
  },
  {
   "cell_type": "code",
   "execution_count": null,
   "id": "cf48d722",
   "metadata": {},
   "outputs": [],
   "source": [
    "%%bash\n",
    "echo \"http://$(cat ~/work/server-ip):3000\""
   ]
  },
  {
   "cell_type": "markdown",
   "id": "96ce9a37",
   "metadata": {},
   "source": [
    "### Konfiguration anpassen\n",
    "\n",
    "Die Konfiguration kann unter folgenden URLs angepasst werden, z.B. um weitere Catalog-Entries hinzuzufügen.\n",
    "\n",
    "* [backstage/app-config.yaml](../../../edit/backstage/app-config.yaml)\n",
    "* [backstage/examples/org.yaml](../../../edit/backstage/examples/org.yaml)\n"
   ]
  },
  {
   "cell_type": "markdown",
   "id": "5e315d0a",
   "metadata": {},
   "source": [
    "### Einrichten der Authentifizierung\n",
    "\n",
    "Für Backstage stehen Ihnen verschiedene Authentifizierungsanbieter zur Verfügung. Hier verwenden wir GitHub oder Microsoft \n",
    "\n",
    "**Fügt in GitHub eine neue OAuth App hinzu**\n",
    "\n",
    "Geht zu [https://github.com/settings/applications/new](https://github.com/settings/applications/new), um Eure OAuth-App zu erstellen.\n",
    "\n",
    "**Fügt in der Azure Cloud eine Web App und ein Secret hinzu**\n",
    "\n",
    "* [Azure Portal](https://portal.azure.com/) -> Microsoft Entra ID -> App registrations -> new registration -> backstage.io -> platform = Web, URL = siehe unten\n",
    "* Secret hinzufügen\n",
    "    * MICROSOFT_CLIENT_ID=\"<Application (client) ID>\"\n",
    "    * MICROSOFT_CLIENT_SECRET=\"...\"\n",
    "    * AZURE_TENANT_ID=\"<Directory (tenant) ID>\""
   ]
  },
  {
   "cell_type": "code",
   "execution_count": null,
   "id": "1afee76a",
   "metadata": {},
   "outputs": [],
   "source": [
    "%%bash\n",
    "echo \"Backstage-Frontend        : http://$(cat ~/work/server-ip):3000\"\n",
    "echo \"Authorization callback URL: http://$(cat ~/work/server-ip):7007/api/auth/github/handler/frame\"\n",
    "\n",
    "\n",
    "echo \"Microsoft Redirect URI    : http://localhost:7007/api/auth/microsoft/handler/frame\""
   ]
  },
  {
   "cell_type": "markdown",
   "id": "452c6693",
   "metadata": {},
   "source": [
    "- - -\n",
    "### Auto Shop GmbH Webshop\n",
    "\n",
    "Zum Testen der Kubernetes Integration und der API Definitionen brauchen wir einen laufenden Webshop.\n",
    "\n",
    "Diesen starten wir hinter dem Reverse Proxy im `default` Namespace.\n",
    "\n",
    "Damit die API Aufrufe von Backstage.io funktioniert wurden der Ingress Ressource folgende Annotation mitgegeben:\n",
    "\n",
    "    apiVersion: networking.k8s.io/v1\n",
    "    kind: Ingress\n",
    "    metadata:\n",
    "    name: webshop\n",
    "    labels:\n",
    "        app: webshop\n",
    "    annotations:\n",
    "        nginx.ingress.kubernetes.io/enable-cors: \"true\"\n",
    "        nginx.ingress.kubernetes.io/cors-allow-origin: \"*\"\n",
    "        nginx.ingress.kubernetes.io/cors-allow-methods: \"GET, POST, OPTIONS, PUT, DELETE\"\n",
    "        nginx.ingress.kubernetes.io/cors-allow-headers: \"Authorization,Content-Type\"\n",
    "\n",
    "**Hinweis**: In produktiven Systemen sollte `cors-allow-origin: \"*\"` vermieden werden, da es Cross-Origin-Zugriffe von beliebigen Domains erlaubt und ein Sicherheitsrisiko darstellt.\n",
    "        "
   ]
  },
  {
   "cell_type": "code",
   "execution_count": null,
   "id": "61b08090",
   "metadata": {},
   "outputs": [],
   "source": [
    "%%bash\n",
    "rm -rf helm \n",
    "git clone https://gitlab.com/ch-mc-b/autoshop-ms/infra/helm.git\n",
    "cd helm\n",
    "\n",
    "helm install autoshop ./autoshop --set ingress.host=$(cat ~/work/server-ip) --set image.tag=2.1.0"
   ]
  },
  {
   "cell_type": "markdown",
   "id": "b95c4fa6",
   "metadata": {},
   "source": [
    "- - -\n",
    "### Kubernetes Integration\n",
    "\n",
    "Dazu Erstellen wir einen Service Account mit Cluster Role Binding `view`."
   ]
  },
  {
   "cell_type": "code",
   "execution_count": null,
   "id": "926c1d56",
   "metadata": {},
   "outputs": [],
   "source": [
    "%%bash\n",
    "kubectl create serviceaccount backstage \n",
    "kubectl create clusterrolebinding backstage-view --clusterrole=view --serviceaccount=default:backstage"
   ]
  },
  {
   "cell_type": "markdown",
   "id": "37c0fd6d",
   "metadata": {},
   "source": [
    "Damit Backstage.io die Kubernetes Ressourcen findet müssen diese um den Label `backstage.io/kubernetes-id` erweitert werden:\n",
    "\n",
    "    kind: Deployment\n",
    "    apiVersion: apps/v1\n",
    "    metadata:\n",
    "      name: catalog\n",
    "      labels:\n",
    "        app: catalog\n",
    "        backstage.io/kubernetes-id: catalog\n",
    "\n",
    "Und mittels der Annotation `backstage.io/kubernetes-id` in `catalog-info.yaml` der Bezug hergestellt werden:\n",
    "\n",
    "    # catalog\n",
    "    apiVersion: backstage.io/v1alpha1\n",
    "    kind: Component\n",
    "    metadata:\n",
    "      name: shop-catalog\n",
    "      description: Catalog service for managing product listings.\n",
    "      annotations:\n",
    "        backstage.io/kubernetes-id: catalog   \n"
   ]
  },
  {
   "cell_type": "markdown",
   "id": "a4c969ac",
   "metadata": {},
   "source": [
    "Zum Schluss fügen wir die Kubernetes Zugriffsinformationen in [app-config.yaml](../../../edit/backstage/app-config.yaml) ein:\n",
    "\n",
    "    kubernetes:\n",
    "      serviceLocatorMethod:\n",
    "        type: multiTenant\n",
    "      clusterLocatorMethods:\n",
    "        - type: config\n",
    "          clusters:\n",
    "            - name: kind-kind\n",
    "              url: https://127.0.0.1:38435\n",
    "              authProvider: serviceAccount\n",
    "              serviceAccountToken: ${K8S_SERVICE_ACCOUNT_TOKEN}\n",
    "              caData: ${K8S_CA_DATA}\n",
    "              skipTLSVerify: false  \n",
    "\n",
    "Der URL muss mit dem `~/.kube/config` - `server:` Eintrag übereinstimmen.\n",
    "       "
   ]
  },
  {
   "cell_type": "code",
   "execution_count": null,
   "id": "586778a9",
   "metadata": {},
   "outputs": [],
   "source": [
    "%%bash\n",
    "cat ~/.kube/config | grep server:"
   ]
  },
  {
   "cell_type": "markdown",
   "id": "4d33050a",
   "metadata": {},
   "source": [
    "             \n",
    "Die zwei Umgebungsvariablen setzen wir vor dem Start von Backstage   "
   ]
  },
  {
   "cell_type": "code",
   "execution_count": null,
   "id": "0e49daf7",
   "metadata": {},
   "outputs": [],
   "source": [
    "%%bash\n",
    "# Applikation Name\n",
    "export BACKSTAGE_ORG='Auto Shop Group'\n",
    "export BACKSTAGE_HOST=\"$(cat ~/work/server-ip)\"\n",
    "# GitHub OAuth\n",
    "export GITHUB_CLIENT_ID=''\n",
    "export GITHUB_SECRET=''\n",
    "# OpenAI API Key\n",
    "export OPENAI_API_KEY=\"\"\n",
    "# Microsoft OAuth\n",
    "export MICROSOFT_CLIENT_ID=\"\"\n",
    "export MICROSOFT_CLIENT_SECRET=\"\"\n",
    "export AZURE_TENANT_ID=\"\"\n",
    "# Kubernetes API\n",
    "export K8S_SERVICE_ACCOUNT_TOKEN=$(kubectl create token backstage --duration=24h)\n",
    "export K8S_CA_DATA=$(kubectl config view --raw -o jsonpath=\"{.clusters[0].cluster.certificate-authority-data}\")\n",
    "\n",
    "cd ~/backstage\n",
    "source ~/.nvm/nvm.sh \n",
    "export NODE_OPTIONS=--no-node-snapshot\n",
    "\n",
    "# Service\n",
    "mkdir -p ~/.config/systemd/user\n",
    "cat <<EOF > ~/.config/systemd/user/backstage.service\n",
    "[Unit]\n",
    "Description=Backstage.io\n",
    "After=network.target\n",
    "\n",
    "[Service]\n",
    "Environment=\"NODE_OPTIONS=--no-node-snapshot\"\n",
    "Environment=\"BACKSTAGE_ORG=${BACKSTAGE_ORG}\"\n",
    "Environment=\"BACKSTAGE_HOST=${BACKSTAGE_HOST}\"\n",
    "Environment=\"GITHUB_CLIENT_ID=${GITHUB_CLIENT_ID}\"\n",
    "Environment=\"GITHUB_SECRET=${GITHUB_SECRET}\"\n",
    "Environment=\"OPENAI_API_KEY=${OPENAI_API_KEY}\"\n",
    "Environment=\"MICROSOFT_CLIENT_ID=${MICROSOFT_CLIENT_ID}\"\n",
    "Environment=\"MICROSOFT_CLIENT_SECRET=${MICROSOFT_CLIENT_SECRET}\"\n",
    "Environment=\"AZURE_TENANT_ID=${AZURE_TENANT_ID}\"\n",
    "Environment=\"K8S_SERVICE_ACCOUNT_TOKEN=${K8S_SERVICE_ACCOUNT_TOKEN}\"\n",
    "Environment=\"K8S_CA_DATA=${K8S_CA_DATA}\"     \n",
    "\n",
    "Type=simple\n",
    "WorkingDirectory=/home/ubuntu/backstage\n",
    "ExecStartPre=/bin/bash -c 'source /home/ubuntu/.nvm/nvm.sh'\n",
    "ExecStart=$(which node) $(which yarn) start\n",
    "Restart=on-failure\n",
    "\n",
    "[Install]\n",
    "WantedBy=default.target\n",
    "EOF\n",
    "\n",
    "yarn start"
   ]
  },
  {
   "cell_type": "markdown",
   "id": "b288a7ab",
   "metadata": {},
   "source": [
    "---\n",
    "### Backstage als Service einrichten (optional)\n",
    "\n"
   ]
  },
  {
   "cell_type": "code",
   "execution_count": null,
   "id": "6f100c65",
   "metadata": {},
   "outputs": [],
   "source": [
    "%%bash\n",
    "cat ~/.config/systemd/user/backstage.service"
   ]
  },
  {
   "cell_type": "markdown",
   "id": "b1094533",
   "metadata": {},
   "source": [
    "**Backstage Service starten**\n",
    "\n",
    "    systemctl --user daemon-reload\n",
    "    systemctl --user  start backstage\n"
   ]
  },
  {
   "cell_type": "markdown",
   "id": "93057893",
   "metadata": {},
   "source": [
    "**Status überprüfen**\n",
    "\n",
    "    systemctl --user status backstage.service"
   ]
  },
  {
   "cell_type": "markdown",
   "id": "4b3c7b38",
   "metadata": {},
   "source": [
    "**ACHTUNG** der Service läuft nur solange wie der User eingeloggt ist.\n",
    "\n",
    "Lösung `linger` aktivieren\n",
    "\n",
    "    loginctl enable-linger ubuntu\n",
    "    systemctl --user enable --now backstage"
   ]
  },
  {
   "cell_type": "markdown",
   "id": "60630bb1",
   "metadata": {},
   "source": [
    "- - -\n",
    "\n",
    "## Aufträge\n",
    "\n",
    "* Erweitert Eure Git Repositories um `catalog-info.yaml` Dateien und integriert diese in Backstage\n",
    "* Versucht ein Projekte oder Eure Firma in Backstage zu modelieren\n",
    "* Erstellt ein Template welche z.B. Dynamisch eine `cloud-init.yaml` Datei zusammenstellt\n",
    "* Installiert ein Plug-In von [https://backstage.io/plugins/](https://backstage.io/plugins/).\n",
    "\n",
    "\n"
   ]
  },
  {
   "cell_type": "markdown",
   "id": "0eb6c876",
   "metadata": {},
   "source": [
    "**Links**\n",
    "\n",
    "* [Backstage.io](https://backstage.io)\n",
    "* [Roadie Backstage Plug-Ins](https://roadie.io/backstage/plugins/)\n",
    "* [Backstage Plug-Ins](https://backstage.io/plugins/)\n",
    "* [Auto Shop Backstage](https://gitlab.com/ch-mc-b/autoshop-ms/infra/backstage)\n",
    "* [lernmaas catalog-info.yaml](https://github.com/mc-b/lernmaas/blob/master/catalog-info.yaml)\n",
    "* [lerncloud catalog-info.yaml](https://github.com/mc-b/lerncloud/blob/main/catalog-info.yaml)"
   ]
  }
 ],
 "metadata": {
  "kernelspec": {
   "display_name": "base",
   "language": "python",
   "name": "python3"
  },
  "language_info": {
   "codemirror_mode": {
    "name": "ipython",
    "version": 3
   },
   "file_extension": ".py",
   "mimetype": "text/x-python",
   "name": "python",
   "nbconvert_exporter": "python",
   "pygments_lexer": "ipython3",
   "version": "3.12.9"
  }
 },
 "nbformat": 4,
 "nbformat_minor": 5
}
